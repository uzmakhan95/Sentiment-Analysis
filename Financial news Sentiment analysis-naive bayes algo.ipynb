{
 "cells": [
  {
   "cell_type": "code",
   "execution_count": 3,
   "id": "9f671cf4",
   "metadata": {},
   "outputs": [],
   "source": [
    "import pandas as pd\n",
    "import numpy as np\n"
   ]
  },
  {
   "cell_type": "code",
   "execution_count": 4,
   "id": "064d593c",
   "metadata": {},
   "outputs": [],
   "source": [
    "file_path ='C:\\\\Users\\\\Dell\\\\Desktop\\\\Sentiment Analysis\\\\all-data.csv'\n",
    "df = pd.read_csv(file_path, encoding='ISO-8859-1')  # another option from chatgpt encoding='cp1252'\n",
    "\n",
    "\n"
   ]
  },
  {
   "cell_type": "code",
   "execution_count": 5,
   "id": "2df4cf34",
   "metadata": {},
   "outputs": [
    {
     "name": "stderr",
     "output_type": "stream",
     "text": [
      "[nltk_data] Downloading package stopwords to\n",
      "[nltk_data]     C:\\Users\\Dell\\AppData\\Roaming\\nltk_data...\n",
      "[nltk_data]   Package stopwords is already up-to-date!\n",
      "[nltk_data] Downloading package wordnet to\n",
      "[nltk_data]     C:\\Users\\Dell\\AppData\\Roaming\\nltk_data...\n",
      "[nltk_data]   Package wordnet is already up-to-date!\n"
     ]
    },
    {
     "data": {
      "text/plain": [
       "True"
      ]
     },
     "execution_count": 5,
     "metadata": {},
     "output_type": "execute_result"
    }
   ],
   "source": [
    "import re\n",
    "import nltk\n",
    "from nltk.corpus import stopwords\n",
    "from nltk.stem import WordNetLemmatizer\n",
    "nltk.download('stopwords')\n",
    "nltk.download('wordnet')\n"
   ]
  },
  {
   "cell_type": "code",
   "execution_count": 6,
   "id": "e832531b",
   "metadata": {},
   "outputs": [
    {
     "name": "stdout",
     "output_type": "stream",
     "text": [
      "Index(['neutral', 'According to Gran , the company has no plans to move all production to Russia , although that is where the company is growing .'], dtype='object')\n"
     ]
    }
   ],
   "source": [
    "print(df.columns)\n"
   ]
  },
  {
   "cell_type": "code",
   "execution_count": 7,
   "id": "15e3019e",
   "metadata": {},
   "outputs": [],
   "source": [
    "filename = r\"C:\\Users\\Dell\\Desktop\\Sentiment Analysis\\all-data.csv\"\n",
    "df = pd.read_csv(filename, \n",
    "                 names=[\"sentiment\", \"text\"],\n",
    "                 encoding=\"ISO-8859-1\", encoding_errors=\"replace\")\n"
   ]
  },
  {
   "cell_type": "code",
   "execution_count": 8,
   "id": "99278c66",
   "metadata": {},
   "outputs": [],
   "source": [
    "import nltk\n",
    "#commenting them because i already downloaded in other notebook\n",
    "#nltk.download('omw-1.4')\n",
    "#nltk.download('wordnet')\n",
    "#nltk.download('stopwords')\n"
   ]
  },
  {
   "cell_type": "code",
   "execution_count": 9,
   "id": "6630632d",
   "metadata": {},
   "outputs": [
    {
     "name": "stdout",
     "output_type": "stream",
     "text": [
      "0    according gran company plan move production ru...\n",
      "1    technopolis plan develop stage area le 100 000...\n",
      "2    international electronic industry company elco...\n",
      "3    new production plant company would increase ca...\n",
      "4    according company updated strategy year 2009 2...\n",
      "Name: cleaned_text, dtype: object\n"
     ]
    }
   ],
   "source": [
    "import pandas as pd\n",
    "import re\n",
    "from nltk.corpus import stopwords\n",
    "from nltk.stem import WordNetLemmatizer\n",
    "\n",
    "\n",
    "filename = r\"C:\\Users\\Dell\\Desktop\\Sentiment Analysis\\all-data.csv\"\n",
    "\n",
    "# Reading dataset\n",
    "df = pd.read_csv(filename, \n",
    "                 names=[\"sentiment\", \"text\"],\n",
    "                 encoding=\"ISO-8859-1\", encoding_errors=\"replace\")\n",
    "\n",
    "# lemmatization and stopwords, basic nlp stuff\n",
    "lemmatizer = WordNetLemmatizer()\n",
    "stop_words = set(stopwords.words('english'))\n",
    "\n",
    "# preprocessing the text, again nlp stuff\n",
    "def preprocess_text(text):\n",
    "    text = re.sub(r'\\W', ' ', text)  # Removing non-word characters\n",
    "    text = text.lower()  # Converting to lowercase\n",
    "    words = text.split()  # Spliting into words\n",
    "    words = [lemmatizer.lemmatize(word) for word in words if word not in stop_words]  # Lemmatize and remove stopwords\n",
    "    return ' '.join(words)\n",
    "\n",
    "# Applying the preprocess_text function to the 'text' column (because we need clean text)\n",
    "df['cleaned_text'] = df['text'].apply(preprocess_text)\n",
    "\n",
    "# using df to display first 5 rows of the cleaned text\n",
    "print(df['cleaned_text'].head())\n"
   ]
  },
  {
   "cell_type": "code",
   "execution_count": 10,
   "id": "d18e7b75",
   "metadata": {},
   "outputs": [],
   "source": [
    "#using tdif to lable the sentiments as 0,1 \n",
    "from sklearn.feature_extraction.text import TfidfVectorizer\n",
    "\n",
    "vectorizer = TfidfVectorizer(max_features=5000)\n",
    "X = vectorizer.fit_transform(df['cleaned_text']).toarray()\n",
    "y = df['sentiment']  # Sentiment labels (0 for negative, 1 for positive, etc.)\n"
   ]
  },
  {
   "cell_type": "code",
   "execution_count": 11,
   "id": "efd78066",
   "metadata": {},
   "outputs": [],
   "source": [
    "#spliting the data into different tests (the test size and all is taken from chatgpt)\n",
    "from sklearn.model_selection import train_test_split\n",
    "\n",
    "X_train, X_test, y_train, y_test = train_test_split(X, y, test_size=0.2, random_state=42)\n"
   ]
  },
  {
   "cell_type": "code",
   "execution_count": 12,
   "id": "5e9fcbb2",
   "metadata": {},
   "outputs": [
    {
     "data": {
      "text/plain": [
       "MultinomialNB()"
      ]
     },
     "execution_count": 12,
     "metadata": {},
     "output_type": "execute_result"
    }
   ],
   "source": [
    "#training via naive bayes algo as the second test algorithm\n",
    "from sklearn.naive_bayes import MultinomialNB\n",
    "from sklearn.metrics import accuracy_score, confusion_matrix, classification_report\n",
    "\n",
    "# Initialize and train the Naive Bayes model\n",
    "nb_model = MultinomialNB()\n",
    "nb_model.fit(X_train, y_train)\n",
    "\n"
   ]
  },
  {
   "cell_type": "code",
   "execution_count": 14,
   "id": "f7626843",
   "metadata": {},
   "outputs": [
    {
     "name": "stdout",
     "output_type": "stream",
     "text": [
      "Naive Bayes Accuracy: 0.688659793814433\n",
      "Naive Bayes Confusion Matrix:\n",
      "[[  9  57  44]\n",
      " [  0 548  23]\n",
      " [  0 178 111]]\n",
      "Naive Bayes Classification Report:\n",
      "              precision    recall  f1-score   support\n",
      "\n",
      "    negative       1.00      0.08      0.15       110\n",
      "     neutral       0.70      0.96      0.81       571\n",
      "    positive       0.62      0.38      0.48       289\n",
      "\n",
      "    accuracy                           0.69       970\n",
      "   macro avg       0.77      0.48      0.48       970\n",
      "weighted avg       0.71      0.69      0.64       970\n",
      "\n"
     ]
    }
   ],
   "source": [
    "#evaluation of model: some predictions and evaluation to check accuracy(i don't understand terms enough to explain in meeting)\n",
    "# todo: check everyword meaning to explain, brush up some theory\n",
    "\n",
    "\n",
    "# model.predict(X_test): This uses the trained Logistic Regression model to predict sentiment labels for the test data.\n",
    "#accuracy_score(y_test, y_pred), confusion_matrix(y_test, y_pred), and classification_report(y_test, y_pred):\n",
    "#These functions evaluate the performance of the model on the test set by calculating accuracy, displaying a confusion matrix,\n",
    "#and providing precision, recall, and F1-scores.\n",
    "\n",
    "# Make predictions\n",
    "y_pred_nb = nb_model.predict(X_test)\n",
    "\n",
    "# Evaluate the model\n",
    "print(f'Naive Bayes Accuracy: {accuracy_score(y_test, y_pred_nb)}')\n",
    "print('Naive Bayes Confusion Matrix:')\n",
    "print(confusion_matrix(y_test, y_pred_nb))\n",
    "print('Naive Bayes Classification Report:')\n",
    "print(classification_report(y_test, y_pred_nb))\n",
    "\n"
   ]
  },
  {
   "cell_type": "code",
   "execution_count": 16,
   "id": "9eda1661",
   "metadata": {},
   "outputs": [
    {
     "data": {
      "image/png": "[encoded data removed]",
      "text/plain": [
       "<Figure size 640x480 with 2 Axes>"
      ]
     },
     "metadata": {},
     "output_type": "display_data"
    }
   ],
   "source": [
    "#some visualization from chatgpt, because why not\n",
    "import seaborn as sns\n",
    "import matplotlib.pyplot as plt\n",
    "\n",
    "cm = confusion_matrix(y_test, y_pred_nb)\n",
    "sns.heatmap(cm, annot=True, fmt='d', cmap='Blues')\n",
    "plt.xlabel('Predicted')\n",
    "plt.ylabel('True')\n",
    "plt.title('Confusion Matrix')\n",
    "plt.show()\n"
   ]
  },
  {
   "cell_type": "code",
   "execution_count": 17,
   "id": "24a2d2dc",
   "metadata": {},
   "outputs": [
    {
     "name": "stdout",
     "output_type": "stream",
     "text": [
      "Enter the text for sentiment analysis: The stock market saw significant gains today as tech companies reported strong earnings.\n",
      "Input Text: The stock market saw significant gains today as tech companies reported strong earnings.\n",
      "Naive Bayes Prediction: 1\n"
     ]
    }
   ],
   "source": [
    "import numpy as np\n",
    "from sklearn.feature_extraction.text import TfidfVectorizer\n",
    "from sklearn.linear_model import LogisticRegression\n",
    "from sklearn.naive_bayes import MultinomialNB\n",
    "from sklearn.svm import SVC\n",
    "from sklearn.pipeline import make_pipeline\n",
    "import joblib\n",
    "\n",
    "# Example training data (replace with your actual training data and labels)\n",
    "X_train = [\"Sample text data for training.\", \"Another example sentence.\", \"More training data here.\"]\n",
    "y_train = [1, 0, 1]  # Example labels (e.g., 1 for positive sentiment, 0 for negative)\n",
    "\n",
    "# Initialize and fit TF-IDF Vectorizer on the training data\n",
    "vectorizer = TfidfVectorizer()\n",
    "X_train_transformed = vectorizer.fit_transform(X_train)\n",
    "\n",
    "# Initialize and train models (replace with your actual trained models)\n",
    "\n",
    "\n",
    "nb_model = MultinomialNB()\n",
    "nb_model.fit(X_train_transformed, y_train)\n",
    "\n",
    "\n",
    "\n",
    "# Save the vectorizer and models (optional, for later use)\n",
    "# joblib.dump(vectorizer, 'vectorizer.pkl')\n",
    "# joblib.dump(logistic_model, 'logistic_model.pkl')\n",
    "# joblib.dump(nb_model, 'nb_model.pkl')\n",
    "# joblib.dump(svm_model, 'svm_model.pkl')\n",
    "\n",
    "def preprocess_text(text):\n",
    "    # Basic preprocessing function (customize as needed)\n",
    "    text = text.lower()\n",
    "    return text\n",
    "\n",
    "def predict_sentiment(text):\n",
    "    # Preprocess the text\n",
    "    processed_text = preprocess_text(text)\n",
    "    \n",
    "    # Transform the text into TF-IDF features\n",
    "    X_new = vectorizer.transform([processed_text])\n",
    "    \n",
    "    # Predict sentiment using the models\n",
    "    nb_prediction = nb_model.predict(X_new)[0]\n",
    "    \n",
    "    # Print the results\n",
    "    print(f\"Input Text: {text}\")\n",
    "    print(f\"Naive Bayes Prediction: {nb_prediction}\")\n",
    "\n",
    "# Input text from the user\n",
    "user_input = input(\"Enter the text for sentiment analysis: \")\n",
    "predict_sentiment(user_input)\n",
    "\n"
   ]
  },
  {
   "cell_type": "code",
   "execution_count": null,
   "id": "9544f380",
   "metadata": {},
   "outputs": [],
   "source": []
  }
 ],
 "metadata": {
  "kernelspec": {
   "display_name": "Python 3 (ipykernel)",
   "language": "python",
   "name": "python3"
  },
  "language_info": {
   "codemirror_mode": {
    "name": "ipython",
    "version": 3
   },
   "file_extension": ".py",
   "mimetype": "text/x-python",
   "name": "python",
   "nbconvert_exporter": "python",
   "pygments_lexer": "ipython3",
   "version": "3.9.13"
  }
 },
 "nbformat": 4,
 "nbformat_minor": 5
}
