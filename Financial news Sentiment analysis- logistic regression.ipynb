{
 "cells": [
  {
   "cell_type": "code",
   "execution_count": 2,
   "id": "9f671cf4",
   "metadata": {},
   "outputs": [],
   "source": [
    "import pandas as pd\n",
    "import numpy as np\n"
   ]
  },
  {
   "cell_type": "code",
   "execution_count": 17,
   "id": "064d593c",
   "metadata": {},
   "outputs": [],
   "source": [
    "file_path ='C:\\\\Users\\\\Dell\\\\Desktop\\\\Sentiment Analysis\\\\all-data.csv'\n",
    "df = pd.read_csv(file_path, encoding='ISO-8859-1')  # another option from chatgpt encoding='cp1252'\n",
    "\n",
    "\n"
   ]
  },
  {
   "cell_type": "code",
   "execution_count": 8,
   "id": "2df4cf34",
   "metadata": {},
   "outputs": [
    {
     "name": "stderr",
     "output_type": "stream",
     "text": [
      "C:\\Users\\Dell\\anaconda3\\lib\\site-packages\\scipy\\__init__.py:155: UserWarning: A NumPy version >=1.18.5 and <1.25.0 is required for this version of SciPy (detected version 1.26.4\n",
      "  warnings.warn(f\"A NumPy version >={np_minversion} and <{np_maxversion}\"\n",
      "[nltk_data] Downloading package stopwords to\n",
      "[nltk_data]     C:\\Users\\Dell\\AppData\\Roaming\\nltk_data...\n",
      "[nltk_data]   Package stopwords is already up-to-date!\n",
      "[nltk_data] Downloading package wordnet to\n",
      "[nltk_data]     C:\\Users\\Dell\\AppData\\Roaming\\nltk_data...\n"
     ]
    },
    {
     "data": {
      "text/plain": [
       "True"
      ]
     },
     "execution_count": 8,
     "metadata": {},
     "output_type": "execute_result"
    }
   ],
   "source": [
    "import re\n",
    "import nltk\n",
    "from nltk.corpus import stopwords\n",
    "from nltk.stem import WordNetLemmatizer\n",
    "nltk.download('stopwords')\n",
    "nltk.download('wordnet')\n"
   ]
  },
  {
   "cell_type": "code",
   "execution_count": 15,
   "id": "e832531b",
   "metadata": {},
   "outputs": [
    {
     "name": "stdout",
     "output_type": "stream",
     "text": [
      "Index(['Sentiment', 'Text', 'Text2', 'Column1', 'Column2', 'Column3',\n",
      "       'Column4', 'Column5', 'Column6', 'Column7',\n",
      "       ...\n",
      "       'Column16374', 'Column16375', 'Column16376', 'Column16377',\n",
      "       'Column16378', 'Column16379', 'Column16380', 'Column16381',\n",
      "       'Column16382', 'Column16383'],\n",
      "      dtype='object', length=16384)\n"
     ]
    }
   ],
   "source": [
    "print(df.columns)\n"
   ]
  },
  {
   "cell_type": "code",
   "execution_count": 22,
   "id": "15e3019e",
   "metadata": {},
   "outputs": [],
   "source": [
    "filename = r\"C:\\Users\\Dell\\Desktop\\Sentiment Analysis\\all-data.csv\"\n",
    "df = pd.read_csv(filename, \n",
    "                 names=[\"sentiment\", \"text\"],\n",
    "                 encoding=\"ISO-8859-1\", encoding_errors=\"replace\")\n"
   ]
  },
  {
   "cell_type": "code",
   "execution_count": 24,
   "id": "99278c66",
   "metadata": {},
   "outputs": [
    {
     "name": "stderr",
     "output_type": "stream",
     "text": [
      "[nltk_data] Downloading package omw-1.4 to\n",
      "[nltk_data]     C:\\Users\\Dell\\AppData\\Roaming\\nltk_data...\n",
      "[nltk_data] Downloading package wordnet to\n",
      "[nltk_data]     C:\\Users\\Dell\\AppData\\Roaming\\nltk_data...\n",
      "[nltk_data]   Package wordnet is already up-to-date!\n",
      "[nltk_data] Downloading package stopwords to\n",
      "[nltk_data]     C:\\Users\\Dell\\AppData\\Roaming\\nltk_data...\n",
      "[nltk_data]   Package stopwords is already up-to-date!\n"
     ]
    },
    {
     "data": {
      "text/plain": [
       "True"
      ]
     },
     "execution_count": 24,
     "metadata": {},
     "output_type": "execute_result"
    }
   ],
   "source": [
    "import nltk\n",
    "nltk.download('omw-1.4')\n",
    "nltk.download('wordnet')\n",
    "nltk.download('stopwords')\n"
   ]
  },
  {
   "cell_type": "code",
   "execution_count": 25,
   "id": "6630632d",
   "metadata": {},
   "outputs": [
    {
     "name": "stdout",
     "output_type": "stream",
     "text": [
      "0    according gran company plan move production ru...\n",
      "1    technopolis plan develop stage area le 100 000...\n",
      "2    international electronic industry company elco...\n",
      "3    new production plant company would increase ca...\n",
      "4    according company updated strategy year 2009 2...\n",
      "Name: cleaned_text, dtype: object\n"
     ]
    }
   ],
   "source": [
    "import pandas as pd\n",
    "import re\n",
    "from nltk.corpus import stopwords\n",
    "from nltk.stem import WordNetLemmatizer\n",
    "\n",
    "\n",
    "filename = r\"C:\\Users\\Dell\\Desktop\\Sentiment Analysis\\all-data.csv\"\n",
    "\n",
    "# Reading dataset\n",
    "df = pd.read_csv(filename, \n",
    "                 names=[\"sentiment\", \"text\"],\n",
    "                 encoding=\"ISO-8859-1\", encoding_errors=\"replace\")\n",
    "\n",
    "# lemmatization and stopwords, basic nlp stuff\n",
    "lemmatizer = WordNetLemmatizer()\n",
    "stop_words = set(stopwords.words('english'))\n",
    "\n",
    "# preprocessing the text, again nlp stuff\n",
    "def preprocess_text(text):\n",
    "    text = re.sub(r'\\W', ' ', text)  # Removing non-word characters\n",
    "    text = text.lower()  # Converting to lowercase\n",
    "    words = text.split()  # Spliting into words\n",
    "    words = [lemmatizer.lemmatize(word) for word in words if word not in stop_words]  # Lemmatize and remove stopwords\n",
    "    return ' '.join(words)\n",
    "\n",
    "# Applying the preprocess_text function to the 'text' column (because we need clean text)\n",
    "df['cleaned_text'] = df['text'].apply(preprocess_text)\n",
    "\n",
    "# using df to display first 5 rows of the cleaned text\n",
    "print(df['cleaned_text'].head())\n"
   ]
  },
  {
   "cell_type": "code",
   "execution_count": 27,
   "id": "d18e7b75",
   "metadata": {},
   "outputs": [],
   "source": [
    "#using tdif to lable the sentiments as 0,1 \n",
    "from sklearn.feature_extraction.text import TfidfVectorizer\n",
    "\n",
    "vectorizer = TfidfVectorizer(max_features=5000)\n",
    "X = vectorizer.fit_transform(df['cleaned_text']).toarray()\n",
    "y = df['sentiment']  # Sentiment labels (0 for negative, 1 for positive, etc.)\n"
   ]
  },
  {
   "cell_type": "code",
   "execution_count": 28,
   "id": "efd78066",
   "metadata": {},
   "outputs": [],
   "source": [
    "#spliting the data into different tests (the test size and all is taken from chatgpt)\n",
    "from sklearn.model_selection import train_test_split\n",
    "\n",
    "X_train, X_test, y_train, y_test = train_test_split(X, y, test_size=0.2, random_state=42)\n"
   ]
  },
  {
   "cell_type": "code",
   "execution_count": 29,
   "id": "5e9fcbb2",
   "metadata": {},
   "outputs": [
    {
     "data": {
      "text/plain": [
       "LogisticRegression()"
      ]
     },
     "execution_count": 29,
     "metadata": {},
     "output_type": "execute_result"
    }
   ],
   "source": [
    "#training via logistion regression as the first test algorithm\n",
    "from sklearn.linear_model import LogisticRegression\n",
    "from sklearn.metrics import accuracy_score, confusion_matrix, classification_report\n",
    "\n",
    "model = LogisticRegression()\n",
    "model.fit(X_train, y_train)\n"
   ]
  },
  {
   "cell_type": "code",
   "execution_count": 31,
   "id": "f7626843",
   "metadata": {},
   "outputs": [
    {
     "name": "stdout",
     "output_type": "stream",
     "text": [
      "Accuracy: 0.7474226804123711\n",
      "Confusion Matrix:\n",
      "[[ 47  53  10]\n",
      " [  2 547  22]\n",
      " [  7 151 131]]\n",
      "Classification Report:\n",
      "              precision    recall  f1-score   support\n",
      "\n",
      "    negative       0.84      0.43      0.57       110\n",
      "     neutral       0.73      0.96      0.83       571\n",
      "    positive       0.80      0.45      0.58       289\n",
      "\n",
      "    accuracy                           0.75       970\n",
      "   macro avg       0.79      0.61      0.66       970\n",
      "weighted avg       0.76      0.75      0.72       970\n",
      "\n"
     ]
    }
   ],
   "source": [
    "#evaluation of model: some predictions and evaluation to check accuracy(i don't understand terms enough to explain in meeting)\n",
    "# todo: check everyword meaning to explain, brush up some theory\n",
    "\n",
    "\n",
    "# model.predict(X_test): This uses the trained Logistic Regression model to predict sentiment labels for the test data.\n",
    "#accuracy_score(y_test, y_pred), confusion_matrix(y_test, y_pred), and classification_report(y_test, y_pred):\n",
    "#These functions evaluate the performance of the model on the test set by calculating accuracy, displaying a confusion matrix,\n",
    "#and providing precision, recall, and F1-scores.\n",
    "\n",
    "y_pred = model.predict(X_test)\n",
    "\n",
    "print(f'Accuracy: {accuracy_score(y_test, y_pred)}')\n",
    "print('Confusion Matrix:')\n",
    "print(confusion_matrix(y_test, y_pred))\n",
    "print('Classification Report:')\n",
    "print(classification_report(y_test, y_pred))\n"
   ]
  },
  {
   "cell_type": "code",
   "execution_count": 32,
   "id": "9eda1661",
   "metadata": {},
   "outputs": [
    {
     "data": {
      "image/png": "[encoded data removed]",
      "text/plain": [
       "<Figure size 640x480 with 2 Axes>"
      ]
     },
     "metadata": {},
     "output_type": "display_data"
    }
   ],
   "source": [
    "#some visualization from chatgpt, because why not\n",
    "import seaborn as sns\n",
    "import matplotlib.pyplot as plt\n",
    "\n",
    "cm = confusion_matrix(y_test, y_pred)\n",
    "sns.heatmap(cm, annot=True, fmt='d', cmap='Blues')\n",
    "plt.xlabel('Predicted')\n",
    "plt.ylabel('True')\n",
    "plt.title('Confusion Matrix')\n",
    "plt.show()\n"
   ]
  },
  {
   "cell_type": "code",
   "execution_count": 34,
   "id": "24a2d2dc",
   "metadata": {},
   "outputs": [
    {
     "name": "stdout",
     "output_type": "stream",
     "text": [
      "Enter the text for sentiment analysis: The stock market saw significant gains today as tech companies reported strong earnings.\n",
      "Input Text: The stock market saw significant gains today as tech companies reported strong earnings.\n",
      "Logistic Regression Prediction: 1\n"
     ]
    }
   ],
   "source": [
    "import numpy as np\n",
    "from sklearn.feature_extraction.text import TfidfVectorizer\n",
    "from sklearn.linear_model import LogisticRegression\n",
    "from sklearn.naive_bayes import MultinomialNB\n",
    "from sklearn.svm import SVC\n",
    "from sklearn.pipeline import make_pipeline\n",
    "import joblib\n",
    "\n",
    "# Example training data (replace with your actual training data and labels)\n",
    "X_train = [\"Sample text data for training.\", \"Another example sentence.\", \"More training data here.\"]\n",
    "y_train = [1, 0, 1]  # Example labels (e.g., 1 for positive sentiment, 0 for negative)\n",
    "\n",
    "# Initialize and fit TF-IDF Vectorizer on the training data\n",
    "vectorizer = TfidfVectorizer()\n",
    "X_train_transformed = vectorizer.fit_transform(X_train)\n",
    "\n",
    "# Initialize and train models (replace with your actual trained models)\n",
    "logistic_model = LogisticRegression()\n",
    "logistic_model.fit(X_train_transformed, y_train)\n",
    "\n",
    "\n",
    "\n",
    "\n",
    "# Save the vectorizer and models (optional, for later use)\n",
    "# joblib.dump(vectorizer, 'vectorizer.pkl')\n",
    "# joblib.dump(logistic_model, 'logistic_model.pkl')\n",
    "# joblib.dump(nb_model, 'nb_model.pkl')\n",
    "# joblib.dump(svm_model, 'svm_model.pkl')\n",
    "\n",
    "def preprocess_text(text):\n",
    "    # Basic preprocessing function (customize as needed)\n",
    "    text = text.lower()\n",
    "    return text\n",
    "\n",
    "def predict_sentiment(text):\n",
    "    # Preprocess the text\n",
    "    processed_text = preprocess_text(text)\n",
    "    \n",
    "    # Transform the text into TF-IDF features\n",
    "    X_new = vectorizer.transform([processed_text])\n",
    "    \n",
    "    # Predict sentiment using the models\n",
    "    logistic_prediction = logistic_model.predict(X_new)[0]\n",
    "\n",
    "    \n",
    "    # Print the results\n",
    "    print(f\"Input Text: {text}\")\n",
    "    print(f\"Logistic Regression Prediction: {logistic_prediction}\")\n",
    "\n",
    "\n",
    "# Input text from the user\n",
    "user_input = input(\"Enter the text for sentiment analysis: \")\n",
    "predict_sentiment(user_input)\n"
   ]
  },
  {
   "cell_type": "code",
   "execution_count": null,
   "id": "0cfe9daf",
   "metadata": {},
   "outputs": [],
   "source": []
  }
 ],
 "metadata": {
  "kernelspec": {
   "display_name": "Python 3 (ipykernel)",
   "language": "python",
   "name": "python3"
  },
  "language_info": {
   "codemirror_mode": {
    "name": "ipython",
    "version": 3
   },
   "file_extension": ".py",
   "mimetype": "text/x-python",
   "name": "python",
   "nbconvert_exporter": "python",
   "pygments_lexer": "ipython3",
   "version": "3.9.13"
  }
 },
 "nbformat": 4,
 "nbformat_minor": 5
}
